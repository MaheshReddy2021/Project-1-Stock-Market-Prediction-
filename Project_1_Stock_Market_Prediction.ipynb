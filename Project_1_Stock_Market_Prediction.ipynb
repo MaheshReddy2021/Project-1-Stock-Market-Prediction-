{
  "nbformat": 4,
  "nbformat_minor": 0,
  "metadata": {
    "colab": {
      "provenance": []
    },
    "kernelspec": {
      "name": "python3",
      "display_name": "Python 3"
    },
    "language_info": {
      "name": "python"
    }
  },
  "cells": [
    {
      "cell_type": "code",
      "source": [
        "import numpy as np\n",
        "import pandas as pd\n",
        "import matplotlib.pyplot as plt\n",
        "import seaborn as sns\n",
        "from sklearn.model_selection import train_test_split\n",
        "from sklearn.linear_model import LinearRegression\n",
        "from sklearn.ensemble import RandomForestRegressor\n",
        "from sklearn import metrics"
      ],
      "metadata": {
        "id": "3T-lcj_smjfm"
      },
      "execution_count": 96,
      "outputs": []
    },
    {
      "cell_type": "code",
      "source": [
        "data_set = pd.read_csv(\"/content/infolimpioavanzadoTarget.csv\")"
      ],
      "metadata": {
        "id": "Wfey5IPTAQmG"
      },
      "execution_count": 31,
      "outputs": []
    },
    {
      "cell_type": "markdown",
      "source": [
        "Understanding the data"
      ],
      "metadata": {
        "id": "ODhBs5fyA6ch"
      }
    },
    {
      "cell_type": "code",
      "source": [
        "data_set.head()"
      ],
      "metadata": {
        "colab": {
          "base_uri": "https://localhost:8080/",
          "height": 359
        },
        "id": "V7lEun-rAZ-Q",
        "outputId": "9f25da94-ce99-44ff-f87d-1744bbfc4fc1"
      },
      "execution_count": 32,
      "outputs": [
        {
          "output_type": "execute_result",
          "data": {
            "text/plain": [
              "         date       open       high        low      close   adjclose  volume  \\\n",
              "0  2022-01-03  17.799999  18.219000  17.500000  17.760000  17.760000  106600   \n",
              "1  2022-01-04  17.700001  18.309999  17.620001  17.660000  17.660000  128700   \n",
              "2  2022-01-05  17.580000  17.799999  16.910000  16.950001  16.950001  103100   \n",
              "3  2022-01-06  16.650000  16.879999  16.139999  16.170000  16.170000  173600   \n",
              "4  2022-01-07  16.219999  16.290001  15.630000  15.710000  15.710000  137800   \n",
              "\n",
              "  ticker  RSIadjclose15  RSIvolume15  ...  high-15  K-15  D-15  \\\n",
              "0   ASLE            NaN          NaN  ...      NaN   NaN   NaN   \n",
              "1   ASLE            NaN          NaN  ...      NaN   NaN   NaN   \n",
              "2   ASLE            NaN          NaN  ...      NaN   NaN   NaN   \n",
              "3   ASLE            NaN          NaN  ...      NaN   NaN   NaN   \n",
              "4   ASLE            NaN          NaN  ...      NaN   NaN   NaN   \n",
              "\n",
              "   stochastic-k-15  stochastic-d-15  stochastic-kd-15  volumenrelativo  \\\n",
              "0              NaN              NaN               NaN         0.919758   \n",
              "1              NaN              NaN               NaN         1.110440   \n",
              "2              NaN              NaN               NaN         0.889560   \n",
              "3              NaN              NaN               NaN         1.497843   \n",
              "4              NaN              NaN               NaN         1.188956   \n",
              "\n",
              "       diff  INCREMENTO  TARGET  \n",
              "0 -1.900001   -9.664295       0  \n",
              "1 -1.379999   -7.247895       0  \n",
              "2 -0.930000   -5.201344       0  \n",
              "3 -0.360000   -2.177856       0  \n",
              "4 -0.120000   -0.758054       0  \n",
              "\n",
              "[5 rows x 1285 columns]"
            ],
            "text/html": [
              "\n",
              "  <div id=\"df-8705f303-efe6-404e-a870-7729dd2b4966\" class=\"colab-df-container\">\n",
              "    <div>\n",
              "<style scoped>\n",
              "    .dataframe tbody tr th:only-of-type {\n",
              "        vertical-align: middle;\n",
              "    }\n",
              "\n",
              "    .dataframe tbody tr th {\n",
              "        vertical-align: top;\n",
              "    }\n",
              "\n",
              "    .dataframe thead th {\n",
              "        text-align: right;\n",
              "    }\n",
              "</style>\n",
              "<table border=\"1\" class=\"dataframe\">\n",
              "  <thead>\n",
              "    <tr style=\"text-align: right;\">\n",
              "      <th></th>\n",
              "      <th>date</th>\n",
              "      <th>open</th>\n",
              "      <th>high</th>\n",
              "      <th>low</th>\n",
              "      <th>close</th>\n",
              "      <th>adjclose</th>\n",
              "      <th>volume</th>\n",
              "      <th>ticker</th>\n",
              "      <th>RSIadjclose15</th>\n",
              "      <th>RSIvolume15</th>\n",
              "      <th>...</th>\n",
              "      <th>high-15</th>\n",
              "      <th>K-15</th>\n",
              "      <th>D-15</th>\n",
              "      <th>stochastic-k-15</th>\n",
              "      <th>stochastic-d-15</th>\n",
              "      <th>stochastic-kd-15</th>\n",
              "      <th>volumenrelativo</th>\n",
              "      <th>diff</th>\n",
              "      <th>INCREMENTO</th>\n",
              "      <th>TARGET</th>\n",
              "    </tr>\n",
              "  </thead>\n",
              "  <tbody>\n",
              "    <tr>\n",
              "      <th>0</th>\n",
              "      <td>2022-01-03</td>\n",
              "      <td>17.799999</td>\n",
              "      <td>18.219000</td>\n",
              "      <td>17.500000</td>\n",
              "      <td>17.760000</td>\n",
              "      <td>17.760000</td>\n",
              "      <td>106600</td>\n",
              "      <td>ASLE</td>\n",
              "      <td>NaN</td>\n",
              "      <td>NaN</td>\n",
              "      <td>...</td>\n",
              "      <td>NaN</td>\n",
              "      <td>NaN</td>\n",
              "      <td>NaN</td>\n",
              "      <td>NaN</td>\n",
              "      <td>NaN</td>\n",
              "      <td>NaN</td>\n",
              "      <td>0.919758</td>\n",
              "      <td>-1.900001</td>\n",
              "      <td>-9.664295</td>\n",
              "      <td>0</td>\n",
              "    </tr>\n",
              "    <tr>\n",
              "      <th>1</th>\n",
              "      <td>2022-01-04</td>\n",
              "      <td>17.700001</td>\n",
              "      <td>18.309999</td>\n",
              "      <td>17.620001</td>\n",
              "      <td>17.660000</td>\n",
              "      <td>17.660000</td>\n",
              "      <td>128700</td>\n",
              "      <td>ASLE</td>\n",
              "      <td>NaN</td>\n",
              "      <td>NaN</td>\n",
              "      <td>...</td>\n",
              "      <td>NaN</td>\n",
              "      <td>NaN</td>\n",
              "      <td>NaN</td>\n",
              "      <td>NaN</td>\n",
              "      <td>NaN</td>\n",
              "      <td>NaN</td>\n",
              "      <td>1.110440</td>\n",
              "      <td>-1.379999</td>\n",
              "      <td>-7.247895</td>\n",
              "      <td>0</td>\n",
              "    </tr>\n",
              "    <tr>\n",
              "      <th>2</th>\n",
              "      <td>2022-01-05</td>\n",
              "      <td>17.580000</td>\n",
              "      <td>17.799999</td>\n",
              "      <td>16.910000</td>\n",
              "      <td>16.950001</td>\n",
              "      <td>16.950001</td>\n",
              "      <td>103100</td>\n",
              "      <td>ASLE</td>\n",
              "      <td>NaN</td>\n",
              "      <td>NaN</td>\n",
              "      <td>...</td>\n",
              "      <td>NaN</td>\n",
              "      <td>NaN</td>\n",
              "      <td>NaN</td>\n",
              "      <td>NaN</td>\n",
              "      <td>NaN</td>\n",
              "      <td>NaN</td>\n",
              "      <td>0.889560</td>\n",
              "      <td>-0.930000</td>\n",
              "      <td>-5.201344</td>\n",
              "      <td>0</td>\n",
              "    </tr>\n",
              "    <tr>\n",
              "      <th>3</th>\n",
              "      <td>2022-01-06</td>\n",
              "      <td>16.650000</td>\n",
              "      <td>16.879999</td>\n",
              "      <td>16.139999</td>\n",
              "      <td>16.170000</td>\n",
              "      <td>16.170000</td>\n",
              "      <td>173600</td>\n",
              "      <td>ASLE</td>\n",
              "      <td>NaN</td>\n",
              "      <td>NaN</td>\n",
              "      <td>...</td>\n",
              "      <td>NaN</td>\n",
              "      <td>NaN</td>\n",
              "      <td>NaN</td>\n",
              "      <td>NaN</td>\n",
              "      <td>NaN</td>\n",
              "      <td>NaN</td>\n",
              "      <td>1.497843</td>\n",
              "      <td>-0.360000</td>\n",
              "      <td>-2.177856</td>\n",
              "      <td>0</td>\n",
              "    </tr>\n",
              "    <tr>\n",
              "      <th>4</th>\n",
              "      <td>2022-01-07</td>\n",
              "      <td>16.219999</td>\n",
              "      <td>16.290001</td>\n",
              "      <td>15.630000</td>\n",
              "      <td>15.710000</td>\n",
              "      <td>15.710000</td>\n",
              "      <td>137800</td>\n",
              "      <td>ASLE</td>\n",
              "      <td>NaN</td>\n",
              "      <td>NaN</td>\n",
              "      <td>...</td>\n",
              "      <td>NaN</td>\n",
              "      <td>NaN</td>\n",
              "      <td>NaN</td>\n",
              "      <td>NaN</td>\n",
              "      <td>NaN</td>\n",
              "      <td>NaN</td>\n",
              "      <td>1.188956</td>\n",
              "      <td>-0.120000</td>\n",
              "      <td>-0.758054</td>\n",
              "      <td>0</td>\n",
              "    </tr>\n",
              "  </tbody>\n",
              "</table>\n",
              "<p>5 rows × 1285 columns</p>\n",
              "</div>\n",
              "    <div class=\"colab-df-buttons\">\n",
              "\n",
              "  <div class=\"colab-df-container\">\n",
              "    <button class=\"colab-df-convert\" onclick=\"convertToInteractive('df-8705f303-efe6-404e-a870-7729dd2b4966')\"\n",
              "            title=\"Convert this dataframe to an interactive table.\"\n",
              "            style=\"display:none;\">\n",
              "\n",
              "  <svg xmlns=\"http://www.w3.org/2000/svg\" height=\"24px\" viewBox=\"0 -960 960 960\">\n",
              "    <path d=\"M120-120v-720h720v720H120Zm60-500h600v-160H180v160Zm220 220h160v-160H400v160Zm0 220h160v-160H400v160ZM180-400h160v-160H180v160Zm440 0h160v-160H620v160ZM180-180h160v-160H180v160Zm440 0h160v-160H620v160Z\"/>\n",
              "  </svg>\n",
              "    </button>\n",
              "\n",
              "  <style>\n",
              "    .colab-df-container {\n",
              "      display:flex;\n",
              "      gap: 12px;\n",
              "    }\n",
              "\n",
              "    .colab-df-convert {\n",
              "      background-color: #E8F0FE;\n",
              "      border: none;\n",
              "      border-radius: 50%;\n",
              "      cursor: pointer;\n",
              "      display: none;\n",
              "      fill: #1967D2;\n",
              "      height: 32px;\n",
              "      padding: 0 0 0 0;\n",
              "      width: 32px;\n",
              "    }\n",
              "\n",
              "    .colab-df-convert:hover {\n",
              "      background-color: #E2EBFA;\n",
              "      box-shadow: 0px 1px 2px rgba(60, 64, 67, 0.3), 0px 1px 3px 1px rgba(60, 64, 67, 0.15);\n",
              "      fill: #174EA6;\n",
              "    }\n",
              "\n",
              "    .colab-df-buttons div {\n",
              "      margin-bottom: 4px;\n",
              "    }\n",
              "\n",
              "    [theme=dark] .colab-df-convert {\n",
              "      background-color: #3B4455;\n",
              "      fill: #D2E3FC;\n",
              "    }\n",
              "\n",
              "    [theme=dark] .colab-df-convert:hover {\n",
              "      background-color: #434B5C;\n",
              "      box-shadow: 0px 1px 3px 1px rgba(0, 0, 0, 0.15);\n",
              "      filter: drop-shadow(0px 1px 2px rgba(0, 0, 0, 0.3));\n",
              "      fill: #FFFFFF;\n",
              "    }\n",
              "  </style>\n",
              "\n",
              "    <script>\n",
              "      const buttonEl =\n",
              "        document.querySelector('#df-8705f303-efe6-404e-a870-7729dd2b4966 button.colab-df-convert');\n",
              "      buttonEl.style.display =\n",
              "        google.colab.kernel.accessAllowed ? 'block' : 'none';\n",
              "\n",
              "      async function convertToInteractive(key) {\n",
              "        const element = document.querySelector('#df-8705f303-efe6-404e-a870-7729dd2b4966');\n",
              "        const dataTable =\n",
              "          await google.colab.kernel.invokeFunction('convertToInteractive',\n",
              "                                                    [key], {});\n",
              "        if (!dataTable) return;\n",
              "\n",
              "        const docLinkHtml = 'Like what you see? Visit the ' +\n",
              "          '<a target=\"_blank\" href=https://colab.research.google.com/notebooks/data_table.ipynb>data table notebook</a>'\n",
              "          + ' to learn more about interactive tables.';\n",
              "        element.innerHTML = '';\n",
              "        dataTable['output_type'] = 'display_data';\n",
              "        await google.colab.output.renderOutput(dataTable, element);\n",
              "        const docLink = document.createElement('div');\n",
              "        docLink.innerHTML = docLinkHtml;\n",
              "        element.appendChild(docLink);\n",
              "      }\n",
              "    </script>\n",
              "  </div>\n",
              "\n",
              "\n",
              "<div id=\"df-c871e89a-ad3e-4a67-9e43-b4f84e427a1a\">\n",
              "  <button class=\"colab-df-quickchart\" onclick=\"quickchart('df-c871e89a-ad3e-4a67-9e43-b4f84e427a1a')\"\n",
              "            title=\"Suggest charts\"\n",
              "            style=\"display:none;\">\n",
              "\n",
              "<svg xmlns=\"http://www.w3.org/2000/svg\" height=\"24px\"viewBox=\"0 0 24 24\"\n",
              "     width=\"24px\">\n",
              "    <g>\n",
              "        <path d=\"M19 3H5c-1.1 0-2 .9-2 2v14c0 1.1.9 2 2 2h14c1.1 0 2-.9 2-2V5c0-1.1-.9-2-2-2zM9 17H7v-7h2v7zm4 0h-2V7h2v10zm4 0h-2v-4h2v4z\"/>\n",
              "    </g>\n",
              "</svg>\n",
              "  </button>\n",
              "\n",
              "<style>\n",
              "  .colab-df-quickchart {\n",
              "      --bg-color: #E8F0FE;\n",
              "      --fill-color: #1967D2;\n",
              "      --hover-bg-color: #E2EBFA;\n",
              "      --hover-fill-color: #174EA6;\n",
              "      --disabled-fill-color: #AAA;\n",
              "      --disabled-bg-color: #DDD;\n",
              "  }\n",
              "\n",
              "  [theme=dark] .colab-df-quickchart {\n",
              "      --bg-color: #3B4455;\n",
              "      --fill-color: #D2E3FC;\n",
              "      --hover-bg-color: #434B5C;\n",
              "      --hover-fill-color: #FFFFFF;\n",
              "      --disabled-bg-color: #3B4455;\n",
              "      --disabled-fill-color: #666;\n",
              "  }\n",
              "\n",
              "  .colab-df-quickchart {\n",
              "    background-color: var(--bg-color);\n",
              "    border: none;\n",
              "    border-radius: 50%;\n",
              "    cursor: pointer;\n",
              "    display: none;\n",
              "    fill: var(--fill-color);\n",
              "    height: 32px;\n",
              "    padding: 0;\n",
              "    width: 32px;\n",
              "  }\n",
              "\n",
              "  .colab-df-quickchart:hover {\n",
              "    background-color: var(--hover-bg-color);\n",
              "    box-shadow: 0 1px 2px rgba(60, 64, 67, 0.3), 0 1px 3px 1px rgba(60, 64, 67, 0.15);\n",
              "    fill: var(--button-hover-fill-color);\n",
              "  }\n",
              "\n",
              "  .colab-df-quickchart-complete:disabled,\n",
              "  .colab-df-quickchart-complete:disabled:hover {\n",
              "    background-color: var(--disabled-bg-color);\n",
              "    fill: var(--disabled-fill-color);\n",
              "    box-shadow: none;\n",
              "  }\n",
              "\n",
              "  .colab-df-spinner {\n",
              "    border: 2px solid var(--fill-color);\n",
              "    border-color: transparent;\n",
              "    border-bottom-color: var(--fill-color);\n",
              "    animation:\n",
              "      spin 1s steps(1) infinite;\n",
              "  }\n",
              "\n",
              "  @keyframes spin {\n",
              "    0% {\n",
              "      border-color: transparent;\n",
              "      border-bottom-color: var(--fill-color);\n",
              "      border-left-color: var(--fill-color);\n",
              "    }\n",
              "    20% {\n",
              "      border-color: transparent;\n",
              "      border-left-color: var(--fill-color);\n",
              "      border-top-color: var(--fill-color);\n",
              "    }\n",
              "    30% {\n",
              "      border-color: transparent;\n",
              "      border-left-color: var(--fill-color);\n",
              "      border-top-color: var(--fill-color);\n",
              "      border-right-color: var(--fill-color);\n",
              "    }\n",
              "    40% {\n",
              "      border-color: transparent;\n",
              "      border-right-color: var(--fill-color);\n",
              "      border-top-color: var(--fill-color);\n",
              "    }\n",
              "    60% {\n",
              "      border-color: transparent;\n",
              "      border-right-color: var(--fill-color);\n",
              "    }\n",
              "    80% {\n",
              "      border-color: transparent;\n",
              "      border-right-color: var(--fill-color);\n",
              "      border-bottom-color: var(--fill-color);\n",
              "    }\n",
              "    90% {\n",
              "      border-color: transparent;\n",
              "      border-bottom-color: var(--fill-color);\n",
              "    }\n",
              "  }\n",
              "</style>\n",
              "\n",
              "  <script>\n",
              "    async function quickchart(key) {\n",
              "      const quickchartButtonEl =\n",
              "        document.querySelector('#' + key + ' button');\n",
              "      quickchartButtonEl.disabled = true;  // To prevent multiple clicks.\n",
              "      quickchartButtonEl.classList.add('colab-df-spinner');\n",
              "      try {\n",
              "        const charts = await google.colab.kernel.invokeFunction(\n",
              "            'suggestCharts', [key], {});\n",
              "      } catch (error) {\n",
              "        console.error('Error during call to suggestCharts:', error);\n",
              "      }\n",
              "      quickchartButtonEl.classList.remove('colab-df-spinner');\n",
              "      quickchartButtonEl.classList.add('colab-df-quickchart-complete');\n",
              "    }\n",
              "    (() => {\n",
              "      let quickchartButtonEl =\n",
              "        document.querySelector('#df-c871e89a-ad3e-4a67-9e43-b4f84e427a1a button');\n",
              "      quickchartButtonEl.style.display =\n",
              "        google.colab.kernel.accessAllowed ? 'block' : 'none';\n",
              "    })();\n",
              "  </script>\n",
              "</div>\n",
              "\n",
              "    </div>\n",
              "  </div>\n"
            ]
          },
          "metadata": {},
          "execution_count": 32
        }
      ]
    },
    {
      "cell_type": "code",
      "source": [
        "data_set.tail()"
      ],
      "metadata": {
        "colab": {
          "base_uri": "https://localhost:8080/",
          "height": 359
        },
        "id": "SvgBKYtUAc30",
        "outputId": "4a7e27fc-a3cc-4f6c-a184-5b2b6f95516d"
      },
      "execution_count": 33,
      "outputs": [
        {
          "output_type": "execute_result",
          "data": {
            "text/plain": [
              "            date       open       high        low      close   adjclose  \\\n",
              "7776  2022-12-23  23.250000  23.540001  23.250000  23.290001  22.699928   \n",
              "7777  2022-12-27  23.350000  23.610001  23.250000  23.350000  22.758406   \n",
              "7778  2022-12-28  23.450001  23.570000  23.219999  23.350000  22.758406   \n",
              "7779  2022-12-29  23.330000  23.740000  23.330000  23.610001  23.011820   \n",
              "7780  2022-12-30  23.680000  23.760000  23.610001  23.610001  23.011820   \n",
              "\n",
              "      volume ticker  RSIadjclose15  RSIvolume15  ...    high-15       K-15  \\\n",
              "7776    4900   ATLO      60.782255    47.081752  ...  23.600000  26.223672   \n",
              "7777    9200   ATLO      62.022801    47.747952  ...  23.610001  30.764722   \n",
              "7778   15200   ATLO      62.022801    48.713225  ...  23.610001  30.764722   \n",
              "7779    7100   ATLO      67.186408    47.445460  ...  23.740000  46.457382   \n",
              "7780    7100   ATLO      67.186408    47.445460  ...  23.760000  45.784072   \n",
              "\n",
              "           D-15  stochastic-k-15  stochastic-d-15  stochastic-kd-15  \\\n",
              "7776  27.022465        26.223672        27.022465         -0.798793   \n",
              "7777  28.003602        30.764722        28.003602          2.761119   \n",
              "7778  29.251039        30.764722        29.251039          1.513683   \n",
              "7779  35.995609        46.457382        35.995609         10.461773   \n",
              "7780  41.002059        45.784072        41.002059          4.782013   \n",
              "\n",
              "      volumenrelativo  diff  INCREMENTO  TARGET  \n",
              "7776         0.333333   NaN         NaN       0  \n",
              "7777         0.625850   NaN         NaN       0  \n",
              "7778         1.034014   NaN         NaN       0  \n",
              "7779         0.482993   NaN         NaN       0  \n",
              "7780         0.482993   NaN         NaN       0  \n",
              "\n",
              "[5 rows x 1285 columns]"
            ],
            "text/html": [
              "\n",
              "  <div id=\"df-55ead203-2f9d-43a6-9785-6353467382d7\" class=\"colab-df-container\">\n",
              "    <div>\n",
              "<style scoped>\n",
              "    .dataframe tbody tr th:only-of-type {\n",
              "        vertical-align: middle;\n",
              "    }\n",
              "\n",
              "    .dataframe tbody tr th {\n",
              "        vertical-align: top;\n",
              "    }\n",
              "\n",
              "    .dataframe thead th {\n",
              "        text-align: right;\n",
              "    }\n",
              "</style>\n",
              "<table border=\"1\" class=\"dataframe\">\n",
              "  <thead>\n",
              "    <tr style=\"text-align: right;\">\n",
              "      <th></th>\n",
              "      <th>date</th>\n",
              "      <th>open</th>\n",
              "      <th>high</th>\n",
              "      <th>low</th>\n",
              "      <th>close</th>\n",
              "      <th>adjclose</th>\n",
              "      <th>volume</th>\n",
              "      <th>ticker</th>\n",
              "      <th>RSIadjclose15</th>\n",
              "      <th>RSIvolume15</th>\n",
              "      <th>...</th>\n",
              "      <th>high-15</th>\n",
              "      <th>K-15</th>\n",
              "      <th>D-15</th>\n",
              "      <th>stochastic-k-15</th>\n",
              "      <th>stochastic-d-15</th>\n",
              "      <th>stochastic-kd-15</th>\n",
              "      <th>volumenrelativo</th>\n",
              "      <th>diff</th>\n",
              "      <th>INCREMENTO</th>\n",
              "      <th>TARGET</th>\n",
              "    </tr>\n",
              "  </thead>\n",
              "  <tbody>\n",
              "    <tr>\n",
              "      <th>7776</th>\n",
              "      <td>2022-12-23</td>\n",
              "      <td>23.250000</td>\n",
              "      <td>23.540001</td>\n",
              "      <td>23.250000</td>\n",
              "      <td>23.290001</td>\n",
              "      <td>22.699928</td>\n",
              "      <td>4900</td>\n",
              "      <td>ATLO</td>\n",
              "      <td>60.782255</td>\n",
              "      <td>47.081752</td>\n",
              "      <td>...</td>\n",
              "      <td>23.600000</td>\n",
              "      <td>26.223672</td>\n",
              "      <td>27.022465</td>\n",
              "      <td>26.223672</td>\n",
              "      <td>27.022465</td>\n",
              "      <td>-0.798793</td>\n",
              "      <td>0.333333</td>\n",
              "      <td>NaN</td>\n",
              "      <td>NaN</td>\n",
              "      <td>0</td>\n",
              "    </tr>\n",
              "    <tr>\n",
              "      <th>7777</th>\n",
              "      <td>2022-12-27</td>\n",
              "      <td>23.350000</td>\n",
              "      <td>23.610001</td>\n",
              "      <td>23.250000</td>\n",
              "      <td>23.350000</td>\n",
              "      <td>22.758406</td>\n",
              "      <td>9200</td>\n",
              "      <td>ATLO</td>\n",
              "      <td>62.022801</td>\n",
              "      <td>47.747952</td>\n",
              "      <td>...</td>\n",
              "      <td>23.610001</td>\n",
              "      <td>30.764722</td>\n",
              "      <td>28.003602</td>\n",
              "      <td>30.764722</td>\n",
              "      <td>28.003602</td>\n",
              "      <td>2.761119</td>\n",
              "      <td>0.625850</td>\n",
              "      <td>NaN</td>\n",
              "      <td>NaN</td>\n",
              "      <td>0</td>\n",
              "    </tr>\n",
              "    <tr>\n",
              "      <th>7778</th>\n",
              "      <td>2022-12-28</td>\n",
              "      <td>23.450001</td>\n",
              "      <td>23.570000</td>\n",
              "      <td>23.219999</td>\n",
              "      <td>23.350000</td>\n",
              "      <td>22.758406</td>\n",
              "      <td>15200</td>\n",
              "      <td>ATLO</td>\n",
              "      <td>62.022801</td>\n",
              "      <td>48.713225</td>\n",
              "      <td>...</td>\n",
              "      <td>23.610001</td>\n",
              "      <td>30.764722</td>\n",
              "      <td>29.251039</td>\n",
              "      <td>30.764722</td>\n",
              "      <td>29.251039</td>\n",
              "      <td>1.513683</td>\n",
              "      <td>1.034014</td>\n",
              "      <td>NaN</td>\n",
              "      <td>NaN</td>\n",
              "      <td>0</td>\n",
              "    </tr>\n",
              "    <tr>\n",
              "      <th>7779</th>\n",
              "      <td>2022-12-29</td>\n",
              "      <td>23.330000</td>\n",
              "      <td>23.740000</td>\n",
              "      <td>23.330000</td>\n",
              "      <td>23.610001</td>\n",
              "      <td>23.011820</td>\n",
              "      <td>7100</td>\n",
              "      <td>ATLO</td>\n",
              "      <td>67.186408</td>\n",
              "      <td>47.445460</td>\n",
              "      <td>...</td>\n",
              "      <td>23.740000</td>\n",
              "      <td>46.457382</td>\n",
              "      <td>35.995609</td>\n",
              "      <td>46.457382</td>\n",
              "      <td>35.995609</td>\n",
              "      <td>10.461773</td>\n",
              "      <td>0.482993</td>\n",
              "      <td>NaN</td>\n",
              "      <td>NaN</td>\n",
              "      <td>0</td>\n",
              "    </tr>\n",
              "    <tr>\n",
              "      <th>7780</th>\n",
              "      <td>2022-12-30</td>\n",
              "      <td>23.680000</td>\n",
              "      <td>23.760000</td>\n",
              "      <td>23.610001</td>\n",
              "      <td>23.610001</td>\n",
              "      <td>23.011820</td>\n",
              "      <td>7100</td>\n",
              "      <td>ATLO</td>\n",
              "      <td>67.186408</td>\n",
              "      <td>47.445460</td>\n",
              "      <td>...</td>\n",
              "      <td>23.760000</td>\n",
              "      <td>45.784072</td>\n",
              "      <td>41.002059</td>\n",
              "      <td>45.784072</td>\n",
              "      <td>41.002059</td>\n",
              "      <td>4.782013</td>\n",
              "      <td>0.482993</td>\n",
              "      <td>NaN</td>\n",
              "      <td>NaN</td>\n",
              "      <td>0</td>\n",
              "    </tr>\n",
              "  </tbody>\n",
              "</table>\n",
              "<p>5 rows × 1285 columns</p>\n",
              "</div>\n",
              "    <div class=\"colab-df-buttons\">\n",
              "\n",
              "  <div class=\"colab-df-container\">\n",
              "    <button class=\"colab-df-convert\" onclick=\"convertToInteractive('df-55ead203-2f9d-43a6-9785-6353467382d7')\"\n",
              "            title=\"Convert this dataframe to an interactive table.\"\n",
              "            style=\"display:none;\">\n",
              "\n",
              "  <svg xmlns=\"http://www.w3.org/2000/svg\" height=\"24px\" viewBox=\"0 -960 960 960\">\n",
              "    <path d=\"M120-120v-720h720v720H120Zm60-500h600v-160H180v160Zm220 220h160v-160H400v160Zm0 220h160v-160H400v160ZM180-400h160v-160H180v160Zm440 0h160v-160H620v160ZM180-180h160v-160H180v160Zm440 0h160v-160H620v160Z\"/>\n",
              "  </svg>\n",
              "    </button>\n",
              "\n",
              "  <style>\n",
              "    .colab-df-container {\n",
              "      display:flex;\n",
              "      gap: 12px;\n",
              "    }\n",
              "\n",
              "    .colab-df-convert {\n",
              "      background-color: #E8F0FE;\n",
              "      border: none;\n",
              "      border-radius: 50%;\n",
              "      cursor: pointer;\n",
              "      display: none;\n",
              "      fill: #1967D2;\n",
              "      height: 32px;\n",
              "      padding: 0 0 0 0;\n",
              "      width: 32px;\n",
              "    }\n",
              "\n",
              "    .colab-df-convert:hover {\n",
              "      background-color: #E2EBFA;\n",
              "      box-shadow: 0px 1px 2px rgba(60, 64, 67, 0.3), 0px 1px 3px 1px rgba(60, 64, 67, 0.15);\n",
              "      fill: #174EA6;\n",
              "    }\n",
              "\n",
              "    .colab-df-buttons div {\n",
              "      margin-bottom: 4px;\n",
              "    }\n",
              "\n",
              "    [theme=dark] .colab-df-convert {\n",
              "      background-color: #3B4455;\n",
              "      fill: #D2E3FC;\n",
              "    }\n",
              "\n",
              "    [theme=dark] .colab-df-convert:hover {\n",
              "      background-color: #434B5C;\n",
              "      box-shadow: 0px 1px 3px 1px rgba(0, 0, 0, 0.15);\n",
              "      filter: drop-shadow(0px 1px 2px rgba(0, 0, 0, 0.3));\n",
              "      fill: #FFFFFF;\n",
              "    }\n",
              "  </style>\n",
              "\n",
              "    <script>\n",
              "      const buttonEl =\n",
              "        document.querySelector('#df-55ead203-2f9d-43a6-9785-6353467382d7 button.colab-df-convert');\n",
              "      buttonEl.style.display =\n",
              "        google.colab.kernel.accessAllowed ? 'block' : 'none';\n",
              "\n",
              "      async function convertToInteractive(key) {\n",
              "        const element = document.querySelector('#df-55ead203-2f9d-43a6-9785-6353467382d7');\n",
              "        const dataTable =\n",
              "          await google.colab.kernel.invokeFunction('convertToInteractive',\n",
              "                                                    [key], {});\n",
              "        if (!dataTable) return;\n",
              "\n",
              "        const docLinkHtml = 'Like what you see? Visit the ' +\n",
              "          '<a target=\"_blank\" href=https://colab.research.google.com/notebooks/data_table.ipynb>data table notebook</a>'\n",
              "          + ' to learn more about interactive tables.';\n",
              "        element.innerHTML = '';\n",
              "        dataTable['output_type'] = 'display_data';\n",
              "        await google.colab.output.renderOutput(dataTable, element);\n",
              "        const docLink = document.createElement('div');\n",
              "        docLink.innerHTML = docLinkHtml;\n",
              "        element.appendChild(docLink);\n",
              "      }\n",
              "    </script>\n",
              "  </div>\n",
              "\n",
              "\n",
              "<div id=\"df-bc7d0abf-b733-43fb-9759-8dead8bc4f78\">\n",
              "  <button class=\"colab-df-quickchart\" onclick=\"quickchart('df-bc7d0abf-b733-43fb-9759-8dead8bc4f78')\"\n",
              "            title=\"Suggest charts\"\n",
              "            style=\"display:none;\">\n",
              "\n",
              "<svg xmlns=\"http://www.w3.org/2000/svg\" height=\"24px\"viewBox=\"0 0 24 24\"\n",
              "     width=\"24px\">\n",
              "    <g>\n",
              "        <path d=\"M19 3H5c-1.1 0-2 .9-2 2v14c0 1.1.9 2 2 2h14c1.1 0 2-.9 2-2V5c0-1.1-.9-2-2-2zM9 17H7v-7h2v7zm4 0h-2V7h2v10zm4 0h-2v-4h2v4z\"/>\n",
              "    </g>\n",
              "</svg>\n",
              "  </button>\n",
              "\n",
              "<style>\n",
              "  .colab-df-quickchart {\n",
              "      --bg-color: #E8F0FE;\n",
              "      --fill-color: #1967D2;\n",
              "      --hover-bg-color: #E2EBFA;\n",
              "      --hover-fill-color: #174EA6;\n",
              "      --disabled-fill-color: #AAA;\n",
              "      --disabled-bg-color: #DDD;\n",
              "  }\n",
              "\n",
              "  [theme=dark] .colab-df-quickchart {\n",
              "      --bg-color: #3B4455;\n",
              "      --fill-color: #D2E3FC;\n",
              "      --hover-bg-color: #434B5C;\n",
              "      --hover-fill-color: #FFFFFF;\n",
              "      --disabled-bg-color: #3B4455;\n",
              "      --disabled-fill-color: #666;\n",
              "  }\n",
              "\n",
              "  .colab-df-quickchart {\n",
              "    background-color: var(--bg-color);\n",
              "    border: none;\n",
              "    border-radius: 50%;\n",
              "    cursor: pointer;\n",
              "    display: none;\n",
              "    fill: var(--fill-color);\n",
              "    height: 32px;\n",
              "    padding: 0;\n",
              "    width: 32px;\n",
              "  }\n",
              "\n",
              "  .colab-df-quickchart:hover {\n",
              "    background-color: var(--hover-bg-color);\n",
              "    box-shadow: 0 1px 2px rgba(60, 64, 67, 0.3), 0 1px 3px 1px rgba(60, 64, 67, 0.15);\n",
              "    fill: var(--button-hover-fill-color);\n",
              "  }\n",
              "\n",
              "  .colab-df-quickchart-complete:disabled,\n",
              "  .colab-df-quickchart-complete:disabled:hover {\n",
              "    background-color: var(--disabled-bg-color);\n",
              "    fill: var(--disabled-fill-color);\n",
              "    box-shadow: none;\n",
              "  }\n",
              "\n",
              "  .colab-df-spinner {\n",
              "    border: 2px solid var(--fill-color);\n",
              "    border-color: transparent;\n",
              "    border-bottom-color: var(--fill-color);\n",
              "    animation:\n",
              "      spin 1s steps(1) infinite;\n",
              "  }\n",
              "\n",
              "  @keyframes spin {\n",
              "    0% {\n",
              "      border-color: transparent;\n",
              "      border-bottom-color: var(--fill-color);\n",
              "      border-left-color: var(--fill-color);\n",
              "    }\n",
              "    20% {\n",
              "      border-color: transparent;\n",
              "      border-left-color: var(--fill-color);\n",
              "      border-top-color: var(--fill-color);\n",
              "    }\n",
              "    30% {\n",
              "      border-color: transparent;\n",
              "      border-left-color: var(--fill-color);\n",
              "      border-top-color: var(--fill-color);\n",
              "      border-right-color: var(--fill-color);\n",
              "    }\n",
              "    40% {\n",
              "      border-color: transparent;\n",
              "      border-right-color: var(--fill-color);\n",
              "      border-top-color: var(--fill-color);\n",
              "    }\n",
              "    60% {\n",
              "      border-color: transparent;\n",
              "      border-right-color: var(--fill-color);\n",
              "    }\n",
              "    80% {\n",
              "      border-color: transparent;\n",
              "      border-right-color: var(--fill-color);\n",
              "      border-bottom-color: var(--fill-color);\n",
              "    }\n",
              "    90% {\n",
              "      border-color: transparent;\n",
              "      border-bottom-color: var(--fill-color);\n",
              "    }\n",
              "  }\n",
              "</style>\n",
              "\n",
              "  <script>\n",
              "    async function quickchart(key) {\n",
              "      const quickchartButtonEl =\n",
              "        document.querySelector('#' + key + ' button');\n",
              "      quickchartButtonEl.disabled = true;  // To prevent multiple clicks.\n",
              "      quickchartButtonEl.classList.add('colab-df-spinner');\n",
              "      try {\n",
              "        const charts = await google.colab.kernel.invokeFunction(\n",
              "            'suggestCharts', [key], {});\n",
              "      } catch (error) {\n",
              "        console.error('Error during call to suggestCharts:', error);\n",
              "      }\n",
              "      quickchartButtonEl.classList.remove('colab-df-spinner');\n",
              "      quickchartButtonEl.classList.add('colab-df-quickchart-complete');\n",
              "    }\n",
              "    (() => {\n",
              "      let quickchartButtonEl =\n",
              "        document.querySelector('#df-bc7d0abf-b733-43fb-9759-8dead8bc4f78 button');\n",
              "      quickchartButtonEl.style.display =\n",
              "        google.colab.kernel.accessAllowed ? 'block' : 'none';\n",
              "    })();\n",
              "  </script>\n",
              "</div>\n",
              "\n",
              "    </div>\n",
              "  </div>\n"
            ]
          },
          "metadata": {},
          "execution_count": 33
        }
      ]
    },
    {
      "cell_type": "code",
      "source": [
        "data_set.shape"
      ],
      "metadata": {
        "colab": {
          "base_uri": "https://localhost:8080/"
        },
        "id": "5LA5ePjLAk0-",
        "outputId": "7b121c01-4294-4c20-b055-25b584e71b69"
      },
      "execution_count": 34,
      "outputs": [
        {
          "output_type": "execute_result",
          "data": {
            "text/plain": [
              "(7781, 1285)"
            ]
          },
          "metadata": {},
          "execution_count": 34
        }
      ]
    },
    {
      "cell_type": "code",
      "source": [
        "data_set.info()"
      ],
      "metadata": {
        "colab": {
          "base_uri": "https://localhost:8080/"
        },
        "id": "PpgF1C4IZSYg",
        "outputId": "ce3499f2-170e-43f7-c5ae-dda155e8dc81"
      },
      "execution_count": 51,
      "outputs": [
        {
          "output_type": "stream",
          "name": "stdout",
          "text": [
            "<class 'pandas.core.frame.DataFrame'>\n",
            "RangeIndex: 7781 entries, 0 to 7780\n",
            "Columns: 1285 entries, date to TARGET\n",
            "dtypes: float64(1280), int64(3), object(2)\n",
            "memory usage: 76.3+ MB\n"
          ]
        }
      ]
    },
    {
      "cell_type": "code",
      "source": [
        "data_set.describe()"
      ],
      "metadata": {
        "colab": {
          "base_uri": "https://localhost:8080/",
          "height": 367
        },
        "id": "8m3DcfooAotE",
        "outputId": "61ea1364-ed02-47fa-a539-879592fa0776"
      },
      "execution_count": 35,
      "outputs": [
        {
          "output_type": "execute_result",
          "data": {
            "text/plain": [
              "              open         high          low        close     adjclose  \\\n",
              "count  7781.000000  7781.000000  7781.000000  7781.000000  7781.000000   \n",
              "mean     34.990220    35.655999    34.301243    34.964414    34.483147   \n",
              "std      99.841502   101.451058    98.073945    99.790823    98.603879   \n",
              "min       0.410000     0.435000     0.405000     0.408000     0.408000   \n",
              "25%       4.050000     4.130000     3.980000     4.030000     3.960000   \n",
              "50%      10.080000    10.110000    10.005000    10.080000    10.061000   \n",
              "75%      24.350000    24.500000    24.080000    24.250000    22.466007   \n",
              "max     795.739990   799.359985   784.960022   797.489990   783.376221   \n",
              "\n",
              "             volume  RSIadjclose15  RSIvolume15  RSIadjclose25  RSIvolume25  \\\n",
              "count  7.781000e+03    7316.000000  7316.000000    7006.000000  7006.000000   \n",
              "mean   7.586022e+05      46.817434    49.814790      46.966016    49.898659   \n",
              "std    3.934491e+06      11.672838     5.002664       8.760961     3.420371   \n",
              "min    0.000000e+00       6.837461    35.303213      17.693637    39.520876   \n",
              "25%    1.080000e+04      38.946316    47.182234      40.954487    48.266978   \n",
              "50%    8.406000e+04      46.259711    48.356834      46.459477    48.961162   \n",
              "75%    6.724000e+05      54.061089    50.902284      52.289893    50.527067   \n",
              "max    1.615550e+08      96.365095    99.622735      91.023108    97.782293   \n",
              "\n",
              "       ...      high-15         K-15         D-15  stochastic-k-15  \\\n",
              "count  ...  7347.000000  7262.000000  7194.000000      7262.000000   \n",
              "mean   ...    37.947291    18.673824    18.704812        18.673824   \n",
              "std    ...   107.340294    75.723295    74.210933        75.723295   \n",
              "min    ...     0.510000  -668.212635  -626.263336      -668.212635   \n",
              "25%    ...     4.565000     6.153839     8.336837         6.153839   \n",
              "50%    ...    10.640000    28.484828    28.478797        28.484828   \n",
              "75%    ...    25.170000    59.688404    58.664021        59.688404   \n",
              "max    ...   799.359985   100.000000   100.000000       100.000000   \n",
              "\n",
              "       stochastic-d-15  stochastic-kd-15  volumenrelativo         diff  \\\n",
              "count      7194.000000       7194.000000      7566.000000  7626.000000   \n",
              "mean         18.704812          0.298413              inf    -0.259186   \n",
              "std          74.210933         14.661948              NaN     7.334250   \n",
              "min        -626.263336       -211.219037         0.000000   -90.538818   \n",
              "25%           8.336837         -6.585432         0.637237    -0.417873   \n",
              "50%          28.478797          0.000000         1.000000    -0.025000   \n",
              "75%          58.664021          6.726947         1.655385     0.240000   \n",
              "max         100.000000        198.156313              inf   120.256775   \n",
              "\n",
              "         INCREMENTO       TARGET  \n",
              "count   7626.000000  7781.000000  \n",
              "mean      -2.674224     0.183010  \n",
              "std      268.268134     0.386699  \n",
              "min   -23399.465955     0.000000  \n",
              "25%       -4.494383     0.000000  \n",
              "50%       -0.304004     0.000000  \n",
              "75%        2.812552     0.000000  \n",
              "max      425.000000     1.000000  \n",
              "\n",
              "[8 rows x 1283 columns]"
            ],
            "text/html": [
              "\n",
              "  <div id=\"df-4accb39f-4b40-4cef-88bf-d32119ec929d\" class=\"colab-df-container\">\n",
              "    <div>\n",
              "<style scoped>\n",
              "    .dataframe tbody tr th:only-of-type {\n",
              "        vertical-align: middle;\n",
              "    }\n",
              "\n",
              "    .dataframe tbody tr th {\n",
              "        vertical-align: top;\n",
              "    }\n",
              "\n",
              "    .dataframe thead th {\n",
              "        text-align: right;\n",
              "    }\n",
              "</style>\n",
              "<table border=\"1\" class=\"dataframe\">\n",
              "  <thead>\n",
              "    <tr style=\"text-align: right;\">\n",
              "      <th></th>\n",
              "      <th>open</th>\n",
              "      <th>high</th>\n",
              "      <th>low</th>\n",
              "      <th>close</th>\n",
              "      <th>adjclose</th>\n",
              "      <th>volume</th>\n",
              "      <th>RSIadjclose15</th>\n",
              "      <th>RSIvolume15</th>\n",
              "      <th>RSIadjclose25</th>\n",
              "      <th>RSIvolume25</th>\n",
              "      <th>...</th>\n",
              "      <th>high-15</th>\n",
              "      <th>K-15</th>\n",
              "      <th>D-15</th>\n",
              "      <th>stochastic-k-15</th>\n",
              "      <th>stochastic-d-15</th>\n",
              "      <th>stochastic-kd-15</th>\n",
              "      <th>volumenrelativo</th>\n",
              "      <th>diff</th>\n",
              "      <th>INCREMENTO</th>\n",
              "      <th>TARGET</th>\n",
              "    </tr>\n",
              "  </thead>\n",
              "  <tbody>\n",
              "    <tr>\n",
              "      <th>count</th>\n",
              "      <td>7781.000000</td>\n",
              "      <td>7781.000000</td>\n",
              "      <td>7781.000000</td>\n",
              "      <td>7781.000000</td>\n",
              "      <td>7781.000000</td>\n",
              "      <td>7.781000e+03</td>\n",
              "      <td>7316.000000</td>\n",
              "      <td>7316.000000</td>\n",
              "      <td>7006.000000</td>\n",
              "      <td>7006.000000</td>\n",
              "      <td>...</td>\n",
              "      <td>7347.000000</td>\n",
              "      <td>7262.000000</td>\n",
              "      <td>7194.000000</td>\n",
              "      <td>7262.000000</td>\n",
              "      <td>7194.000000</td>\n",
              "      <td>7194.000000</td>\n",
              "      <td>7566.000000</td>\n",
              "      <td>7626.000000</td>\n",
              "      <td>7626.000000</td>\n",
              "      <td>7781.000000</td>\n",
              "    </tr>\n",
              "    <tr>\n",
              "      <th>mean</th>\n",
              "      <td>34.990220</td>\n",
              "      <td>35.655999</td>\n",
              "      <td>34.301243</td>\n",
              "      <td>34.964414</td>\n",
              "      <td>34.483147</td>\n",
              "      <td>7.586022e+05</td>\n",
              "      <td>46.817434</td>\n",
              "      <td>49.814790</td>\n",
              "      <td>46.966016</td>\n",
              "      <td>49.898659</td>\n",
              "      <td>...</td>\n",
              "      <td>37.947291</td>\n",
              "      <td>18.673824</td>\n",
              "      <td>18.704812</td>\n",
              "      <td>18.673824</td>\n",
              "      <td>18.704812</td>\n",
              "      <td>0.298413</td>\n",
              "      <td>inf</td>\n",
              "      <td>-0.259186</td>\n",
              "      <td>-2.674224</td>\n",
              "      <td>0.183010</td>\n",
              "    </tr>\n",
              "    <tr>\n",
              "      <th>std</th>\n",
              "      <td>99.841502</td>\n",
              "      <td>101.451058</td>\n",
              "      <td>98.073945</td>\n",
              "      <td>99.790823</td>\n",
              "      <td>98.603879</td>\n",
              "      <td>3.934491e+06</td>\n",
              "      <td>11.672838</td>\n",
              "      <td>5.002664</td>\n",
              "      <td>8.760961</td>\n",
              "      <td>3.420371</td>\n",
              "      <td>...</td>\n",
              "      <td>107.340294</td>\n",
              "      <td>75.723295</td>\n",
              "      <td>74.210933</td>\n",
              "      <td>75.723295</td>\n",
              "      <td>74.210933</td>\n",
              "      <td>14.661948</td>\n",
              "      <td>NaN</td>\n",
              "      <td>7.334250</td>\n",
              "      <td>268.268134</td>\n",
              "      <td>0.386699</td>\n",
              "    </tr>\n",
              "    <tr>\n",
              "      <th>min</th>\n",
              "      <td>0.410000</td>\n",
              "      <td>0.435000</td>\n",
              "      <td>0.405000</td>\n",
              "      <td>0.408000</td>\n",
              "      <td>0.408000</td>\n",
              "      <td>0.000000e+00</td>\n",
              "      <td>6.837461</td>\n",
              "      <td>35.303213</td>\n",
              "      <td>17.693637</td>\n",
              "      <td>39.520876</td>\n",
              "      <td>...</td>\n",
              "      <td>0.510000</td>\n",
              "      <td>-668.212635</td>\n",
              "      <td>-626.263336</td>\n",
              "      <td>-668.212635</td>\n",
              "      <td>-626.263336</td>\n",
              "      <td>-211.219037</td>\n",
              "      <td>0.000000</td>\n",
              "      <td>-90.538818</td>\n",
              "      <td>-23399.465955</td>\n",
              "      <td>0.000000</td>\n",
              "    </tr>\n",
              "    <tr>\n",
              "      <th>25%</th>\n",
              "      <td>4.050000</td>\n",
              "      <td>4.130000</td>\n",
              "      <td>3.980000</td>\n",
              "      <td>4.030000</td>\n",
              "      <td>3.960000</td>\n",
              "      <td>1.080000e+04</td>\n",
              "      <td>38.946316</td>\n",
              "      <td>47.182234</td>\n",
              "      <td>40.954487</td>\n",
              "      <td>48.266978</td>\n",
              "      <td>...</td>\n",
              "      <td>4.565000</td>\n",
              "      <td>6.153839</td>\n",
              "      <td>8.336837</td>\n",
              "      <td>6.153839</td>\n",
              "      <td>8.336837</td>\n",
              "      <td>-6.585432</td>\n",
              "      <td>0.637237</td>\n",
              "      <td>-0.417873</td>\n",
              "      <td>-4.494383</td>\n",
              "      <td>0.000000</td>\n",
              "    </tr>\n",
              "    <tr>\n",
              "      <th>50%</th>\n",
              "      <td>10.080000</td>\n",
              "      <td>10.110000</td>\n",
              "      <td>10.005000</td>\n",
              "      <td>10.080000</td>\n",
              "      <td>10.061000</td>\n",
              "      <td>8.406000e+04</td>\n",
              "      <td>46.259711</td>\n",
              "      <td>48.356834</td>\n",
              "      <td>46.459477</td>\n",
              "      <td>48.961162</td>\n",
              "      <td>...</td>\n",
              "      <td>10.640000</td>\n",
              "      <td>28.484828</td>\n",
              "      <td>28.478797</td>\n",
              "      <td>28.484828</td>\n",
              "      <td>28.478797</td>\n",
              "      <td>0.000000</td>\n",
              "      <td>1.000000</td>\n",
              "      <td>-0.025000</td>\n",
              "      <td>-0.304004</td>\n",
              "      <td>0.000000</td>\n",
              "    </tr>\n",
              "    <tr>\n",
              "      <th>75%</th>\n",
              "      <td>24.350000</td>\n",
              "      <td>24.500000</td>\n",
              "      <td>24.080000</td>\n",
              "      <td>24.250000</td>\n",
              "      <td>22.466007</td>\n",
              "      <td>6.724000e+05</td>\n",
              "      <td>54.061089</td>\n",
              "      <td>50.902284</td>\n",
              "      <td>52.289893</td>\n",
              "      <td>50.527067</td>\n",
              "      <td>...</td>\n",
              "      <td>25.170000</td>\n",
              "      <td>59.688404</td>\n",
              "      <td>58.664021</td>\n",
              "      <td>59.688404</td>\n",
              "      <td>58.664021</td>\n",
              "      <td>6.726947</td>\n",
              "      <td>1.655385</td>\n",
              "      <td>0.240000</td>\n",
              "      <td>2.812552</td>\n",
              "      <td>0.000000</td>\n",
              "    </tr>\n",
              "    <tr>\n",
              "      <th>max</th>\n",
              "      <td>795.739990</td>\n",
              "      <td>799.359985</td>\n",
              "      <td>784.960022</td>\n",
              "      <td>797.489990</td>\n",
              "      <td>783.376221</td>\n",
              "      <td>1.615550e+08</td>\n",
              "      <td>96.365095</td>\n",
              "      <td>99.622735</td>\n",
              "      <td>91.023108</td>\n",
              "      <td>97.782293</td>\n",
              "      <td>...</td>\n",
              "      <td>799.359985</td>\n",
              "      <td>100.000000</td>\n",
              "      <td>100.000000</td>\n",
              "      <td>100.000000</td>\n",
              "      <td>100.000000</td>\n",
              "      <td>198.156313</td>\n",
              "      <td>inf</td>\n",
              "      <td>120.256775</td>\n",
              "      <td>425.000000</td>\n",
              "      <td>1.000000</td>\n",
              "    </tr>\n",
              "  </tbody>\n",
              "</table>\n",
              "<p>8 rows × 1283 columns</p>\n",
              "</div>\n",
              "    <div class=\"colab-df-buttons\">\n",
              "\n",
              "  <div class=\"colab-df-container\">\n",
              "    <button class=\"colab-df-convert\" onclick=\"convertToInteractive('df-4accb39f-4b40-4cef-88bf-d32119ec929d')\"\n",
              "            title=\"Convert this dataframe to an interactive table.\"\n",
              "            style=\"display:none;\">\n",
              "\n",
              "  <svg xmlns=\"http://www.w3.org/2000/svg\" height=\"24px\" viewBox=\"0 -960 960 960\">\n",
              "    <path d=\"M120-120v-720h720v720H120Zm60-500h600v-160H180v160Zm220 220h160v-160H400v160Zm0 220h160v-160H400v160ZM180-400h160v-160H180v160Zm440 0h160v-160H620v160ZM180-180h160v-160H180v160Zm440 0h160v-160H620v160Z\"/>\n",
              "  </svg>\n",
              "    </button>\n",
              "\n",
              "  <style>\n",
              "    .colab-df-container {\n",
              "      display:flex;\n",
              "      gap: 12px;\n",
              "    }\n",
              "\n",
              "    .colab-df-convert {\n",
              "      background-color: #E8F0FE;\n",
              "      border: none;\n",
              "      border-radius: 50%;\n",
              "      cursor: pointer;\n",
              "      display: none;\n",
              "      fill: #1967D2;\n",
              "      height: 32px;\n",
              "      padding: 0 0 0 0;\n",
              "      width: 32px;\n",
              "    }\n",
              "\n",
              "    .colab-df-convert:hover {\n",
              "      background-color: #E2EBFA;\n",
              "      box-shadow: 0px 1px 2px rgba(60, 64, 67, 0.3), 0px 1px 3px 1px rgba(60, 64, 67, 0.15);\n",
              "      fill: #174EA6;\n",
              "    }\n",
              "\n",
              "    .colab-df-buttons div {\n",
              "      margin-bottom: 4px;\n",
              "    }\n",
              "\n",
              "    [theme=dark] .colab-df-convert {\n",
              "      background-color: #3B4455;\n",
              "      fill: #D2E3FC;\n",
              "    }\n",
              "\n",
              "    [theme=dark] .colab-df-convert:hover {\n",
              "      background-color: #434B5C;\n",
              "      box-shadow: 0px 1px 3px 1px rgba(0, 0, 0, 0.15);\n",
              "      filter: drop-shadow(0px 1px 2px rgba(0, 0, 0, 0.3));\n",
              "      fill: #FFFFFF;\n",
              "    }\n",
              "  </style>\n",
              "\n",
              "    <script>\n",
              "      const buttonEl =\n",
              "        document.querySelector('#df-4accb39f-4b40-4cef-88bf-d32119ec929d button.colab-df-convert');\n",
              "      buttonEl.style.display =\n",
              "        google.colab.kernel.accessAllowed ? 'block' : 'none';\n",
              "\n",
              "      async function convertToInteractive(key) {\n",
              "        const element = document.querySelector('#df-4accb39f-4b40-4cef-88bf-d32119ec929d');\n",
              "        const dataTable =\n",
              "          await google.colab.kernel.invokeFunction('convertToInteractive',\n",
              "                                                    [key], {});\n",
              "        if (!dataTable) return;\n",
              "\n",
              "        const docLinkHtml = 'Like what you see? Visit the ' +\n",
              "          '<a target=\"_blank\" href=https://colab.research.google.com/notebooks/data_table.ipynb>data table notebook</a>'\n",
              "          + ' to learn more about interactive tables.';\n",
              "        element.innerHTML = '';\n",
              "        dataTable['output_type'] = 'display_data';\n",
              "        await google.colab.output.renderOutput(dataTable, element);\n",
              "        const docLink = document.createElement('div');\n",
              "        docLink.innerHTML = docLinkHtml;\n",
              "        element.appendChild(docLink);\n",
              "      }\n",
              "    </script>\n",
              "  </div>\n",
              "\n",
              "\n",
              "<div id=\"df-e1f99538-c1d5-471d-9a9a-7a99c09dc765\">\n",
              "  <button class=\"colab-df-quickchart\" onclick=\"quickchart('df-e1f99538-c1d5-471d-9a9a-7a99c09dc765')\"\n",
              "            title=\"Suggest charts\"\n",
              "            style=\"display:none;\">\n",
              "\n",
              "<svg xmlns=\"http://www.w3.org/2000/svg\" height=\"24px\"viewBox=\"0 0 24 24\"\n",
              "     width=\"24px\">\n",
              "    <g>\n",
              "        <path d=\"M19 3H5c-1.1 0-2 .9-2 2v14c0 1.1.9 2 2 2h14c1.1 0 2-.9 2-2V5c0-1.1-.9-2-2-2zM9 17H7v-7h2v7zm4 0h-2V7h2v10zm4 0h-2v-4h2v4z\"/>\n",
              "    </g>\n",
              "</svg>\n",
              "  </button>\n",
              "\n",
              "<style>\n",
              "  .colab-df-quickchart {\n",
              "      --bg-color: #E8F0FE;\n",
              "      --fill-color: #1967D2;\n",
              "      --hover-bg-color: #E2EBFA;\n",
              "      --hover-fill-color: #174EA6;\n",
              "      --disabled-fill-color: #AAA;\n",
              "      --disabled-bg-color: #DDD;\n",
              "  }\n",
              "\n",
              "  [theme=dark] .colab-df-quickchart {\n",
              "      --bg-color: #3B4455;\n",
              "      --fill-color: #D2E3FC;\n",
              "      --hover-bg-color: #434B5C;\n",
              "      --hover-fill-color: #FFFFFF;\n",
              "      --disabled-bg-color: #3B4455;\n",
              "      --disabled-fill-color: #666;\n",
              "  }\n",
              "\n",
              "  .colab-df-quickchart {\n",
              "    background-color: var(--bg-color);\n",
              "    border: none;\n",
              "    border-radius: 50%;\n",
              "    cursor: pointer;\n",
              "    display: none;\n",
              "    fill: var(--fill-color);\n",
              "    height: 32px;\n",
              "    padding: 0;\n",
              "    width: 32px;\n",
              "  }\n",
              "\n",
              "  .colab-df-quickchart:hover {\n",
              "    background-color: var(--hover-bg-color);\n",
              "    box-shadow: 0 1px 2px rgba(60, 64, 67, 0.3), 0 1px 3px 1px rgba(60, 64, 67, 0.15);\n",
              "    fill: var(--button-hover-fill-color);\n",
              "  }\n",
              "\n",
              "  .colab-df-quickchart-complete:disabled,\n",
              "  .colab-df-quickchart-complete:disabled:hover {\n",
              "    background-color: var(--disabled-bg-color);\n",
              "    fill: var(--disabled-fill-color);\n",
              "    box-shadow: none;\n",
              "  }\n",
              "\n",
              "  .colab-df-spinner {\n",
              "    border: 2px solid var(--fill-color);\n",
              "    border-color: transparent;\n",
              "    border-bottom-color: var(--fill-color);\n",
              "    animation:\n",
              "      spin 1s steps(1) infinite;\n",
              "  }\n",
              "\n",
              "  @keyframes spin {\n",
              "    0% {\n",
              "      border-color: transparent;\n",
              "      border-bottom-color: var(--fill-color);\n",
              "      border-left-color: var(--fill-color);\n",
              "    }\n",
              "    20% {\n",
              "      border-color: transparent;\n",
              "      border-left-color: var(--fill-color);\n",
              "      border-top-color: var(--fill-color);\n",
              "    }\n",
              "    30% {\n",
              "      border-color: transparent;\n",
              "      border-left-color: var(--fill-color);\n",
              "      border-top-color: var(--fill-color);\n",
              "      border-right-color: var(--fill-color);\n",
              "    }\n",
              "    40% {\n",
              "      border-color: transparent;\n",
              "      border-right-color: var(--fill-color);\n",
              "      border-top-color: var(--fill-color);\n",
              "    }\n",
              "    60% {\n",
              "      border-color: transparent;\n",
              "      border-right-color: var(--fill-color);\n",
              "    }\n",
              "    80% {\n",
              "      border-color: transparent;\n",
              "      border-right-color: var(--fill-color);\n",
              "      border-bottom-color: var(--fill-color);\n",
              "    }\n",
              "    90% {\n",
              "      border-color: transparent;\n",
              "      border-bottom-color: var(--fill-color);\n",
              "    }\n",
              "  }\n",
              "</style>\n",
              "\n",
              "  <script>\n",
              "    async function quickchart(key) {\n",
              "      const quickchartButtonEl =\n",
              "        document.querySelector('#' + key + ' button');\n",
              "      quickchartButtonEl.disabled = true;  // To prevent multiple clicks.\n",
              "      quickchartButtonEl.classList.add('colab-df-spinner');\n",
              "      try {\n",
              "        const charts = await google.colab.kernel.invokeFunction(\n",
              "            'suggestCharts', [key], {});\n",
              "      } catch (error) {\n",
              "        console.error('Error during call to suggestCharts:', error);\n",
              "      }\n",
              "      quickchartButtonEl.classList.remove('colab-df-spinner');\n",
              "      quickchartButtonEl.classList.add('colab-df-quickchart-complete');\n",
              "    }\n",
              "    (() => {\n",
              "      let quickchartButtonEl =\n",
              "        document.querySelector('#df-e1f99538-c1d5-471d-9a9a-7a99c09dc765 button');\n",
              "      quickchartButtonEl.style.display =\n",
              "        google.colab.kernel.accessAllowed ? 'block' : 'none';\n",
              "    })();\n",
              "  </script>\n",
              "</div>\n",
              "\n",
              "    </div>\n",
              "  </div>\n"
            ]
          },
          "metadata": {},
          "execution_count": 35
        }
      ]
    },
    {
      "cell_type": "code",
      "source": [
        "data_set.columns"
      ],
      "metadata": {
        "colab": {
          "base_uri": "https://localhost:8080/"
        },
        "id": "7ZQnk-TlBDl3",
        "outputId": "54d29ff8-17ca-4069-ae96-48d17de6c260"
      },
      "execution_count": 36,
      "outputs": [
        {
          "output_type": "execute_result",
          "data": {
            "text/plain": [
              "Index(['date', 'open', 'high', 'low', 'close', 'adjclose', 'volume', 'ticker',\n",
              "       'RSIadjclose15', 'RSIvolume15',\n",
              "       ...\n",
              "       'high-15', 'K-15', 'D-15', 'stochastic-k-15', 'stochastic-d-15',\n",
              "       'stochastic-kd-15', 'volumenrelativo', 'diff', 'INCREMENTO', 'TARGET'],\n",
              "      dtype='object', length=1285)"
            ]
          },
          "metadata": {},
          "execution_count": 36
        }
      ]
    },
    {
      "cell_type": "code",
      "source": [
        "data_set.isnull().sum()"
      ],
      "metadata": {
        "colab": {
          "base_uri": "https://localhost:8080/"
        },
        "id": "6wuftYmXBXpa",
        "outputId": "486cd5f9-b420-440b-dd62-7633edd3d093"
      },
      "execution_count": 37,
      "outputs": [
        {
          "output_type": "execute_result",
          "data": {
            "text/plain": [
              "date                  0\n",
              "open                  0\n",
              "high                  0\n",
              "low                   0\n",
              "close                 0\n",
              "                   ... \n",
              "stochastic-kd-15    587\n",
              "volumenrelativo     215\n",
              "diff                155\n",
              "INCREMENTO          155\n",
              "TARGET                0\n",
              "Length: 1285, dtype: int64"
            ]
          },
          "metadata": {},
          "execution_count": 37
        }
      ]
    },
    {
      "cell_type": "markdown",
      "source": [
        "Visualizing key statistics and trends in stock prices."
      ],
      "metadata": {
        "id": "N6fggQ5aB9VB"
      }
    },
    {
      "cell_type": "code",
      "source": [
        "sns.relplot(x = \"open\",y = \"close\",data = data_set)"
      ],
      "metadata": {
        "colab": {
          "base_uri": "https://localhost:8080/",
          "height": 523
        },
        "id": "4D9w_s9LUG-J",
        "outputId": "0777c14c-99b4-4df1-8fa1-f1c9a6b0f5e5"
      },
      "execution_count": 38,
      "outputs": [
        {
          "output_type": "execute_result",
          "data": {
            "text/plain": [
              "<seaborn.axisgrid.FacetGrid at 0x794898cf61a0>"
            ]
          },
          "metadata": {},
          "execution_count": 38
        },
        {
          "output_type": "display_data",
          "data": {
            "text/plain": [
              "<Figure size 500x500 with 1 Axes>"
            ],
            "image/png": "[encoded data removed]"
          },
          "metadata": {}
        }
      ]
    },
    {
      "cell_type": "code",
      "source": [
        "sns.relplot(x = \"low\",y = \"high\",data = data_set)"
      ],
      "metadata": {
        "colab": {
          "base_uri": "https://localhost:8080/",
          "height": 523
        },
        "id": "v_Du6to1V6qb",
        "outputId": "174d0c78-efed-4c66-ecd5-a9cdb76dde84"
      },
      "execution_count": 39,
      "outputs": [
        {
          "output_type": "execute_result",
          "data": {
            "text/plain": [
              "<seaborn.axisgrid.FacetGrid at 0x7948a409a5f0>"
            ]
          },
          "metadata": {},
          "execution_count": 39
        },
        {
          "output_type": "display_data",
          "data": {
            "text/plain": [
              "<Figure size 500x500 with 1 Axes>"
            ],
            "image/png": "[encoded data removed]"
          },
          "metadata": {}
        }
      ]
    },
    {
      "cell_type": "code",
      "source": [
        "sns.histplot(data_set[\"open\"],bins = 50)"
      ],
      "metadata": {
        "colab": {
          "base_uri": "https://localhost:8080/",
          "height": 466
        },
        "id": "YNJmUhskWPYg",
        "outputId": "278215b3-36b1-4e79-ef07-d953103c8814"
      },
      "execution_count": 49,
      "outputs": [
        {
          "output_type": "execute_result",
          "data": {
            "text/plain": [
              "<Axes: xlabel='open', ylabel='Count'>"
            ]
          },
          "metadata": {},
          "execution_count": 49
        },
        {
          "output_type": "display_data",
          "data": {
            "text/plain": [
              "<Figure size 640x480 with 1 Axes>"
            ],
            "image/png": "[encoded data removed]"
          },
          "metadata": {}
        }
      ]
    },
    {
      "cell_type": "code",
      "source": [
        "sns.histplot(data_set[\"close\"],bins = 50)"
      ],
      "metadata": {
        "colab": {
          "base_uri": "https://localhost:8080/",
          "height": 466
        },
        "id": "KJtEQSqlgeWv",
        "outputId": "4499245b-64d1-43de-f731-288905cb577d"
      },
      "execution_count": 93,
      "outputs": [
        {
          "output_type": "execute_result",
          "data": {
            "text/plain": [
              "<Axes: xlabel='close', ylabel='Count'>"
            ]
          },
          "metadata": {},
          "execution_count": 93
        },
        {
          "output_type": "display_data",
          "data": {
            "text/plain": [
              "<Figure size 640x480 with 1 Axes>"
            ],
            "image/png": "[encoded data removed]"
          },
          "metadata": {}
        }
      ]
    },
    {
      "cell_type": "code",
      "source": [
        "sns.histplot(data_set[\"high\"],bins = 50)"
      ],
      "metadata": {
        "colab": {
          "base_uri": "https://localhost:8080/",
          "height": 466
        },
        "id": "qOnOqWdMW52P",
        "outputId": "dfba0447-02a9-4451-c12e-ef32a0bcf0a4"
      },
      "execution_count": 50,
      "outputs": [
        {
          "output_type": "execute_result",
          "data": {
            "text/plain": [
              "<Axes: xlabel='high', ylabel='Count'>"
            ]
          },
          "metadata": {},
          "execution_count": 50
        },
        {
          "output_type": "display_data",
          "data": {
            "text/plain": [
              "<Figure size 640x480 with 1 Axes>"
            ],
            "image/png": "[encoded data removed]"
          },
          "metadata": {}
        }
      ]
    },
    {
      "cell_type": "code",
      "source": [
        "sns.histplot(data_set[\"low\"],bins = 50)"
      ],
      "metadata": {
        "colab": {
          "base_uri": "https://localhost:8080/",
          "height": 466
        },
        "id": "MGn61r1NgjTJ",
        "outputId": "1379ab3b-40c6-484d-8465-2a38d1738ac8"
      },
      "execution_count": 92,
      "outputs": [
        {
          "output_type": "execute_result",
          "data": {
            "text/plain": [
              "<Axes: xlabel='low', ylabel='Count'>"
            ]
          },
          "metadata": {},
          "execution_count": 92
        },
        {
          "output_type": "display_data",
          "data": {
            "text/plain": [
              "<Figure size 640x480 with 1 Axes>"
            ],
            "image/png": "[encoded data removed]"
          },
          "metadata": {}
        }
      ]
    },
    {
      "cell_type": "code",
      "source": [
        "X = data_set[[\"open\",\"high\",\"low\",\"volume\"]]\n",
        "Y = data_set['close']"
      ],
      "metadata": {
        "id": "KI2PXbplZHEe"
      },
      "execution_count": 78,
      "outputs": []
    },
    {
      "cell_type": "code",
      "source": [
        "print(X)"
      ],
      "metadata": {
        "colab": {
          "base_uri": "https://localhost:8080/"
        },
        "id": "uLkMzcrJbNu6",
        "outputId": "1b80458f-d4a9-45fb-b445-5221cf8491b7"
      },
      "execution_count": 79,
      "outputs": [
        {
          "output_type": "stream",
          "name": "stdout",
          "text": [
            "           open       high        low  volume\n",
            "0     17.799999  18.219000  17.500000  106600\n",
            "1     17.700001  18.309999  17.620001  128700\n",
            "2     17.580000  17.799999  16.910000  103100\n",
            "3     16.650000  16.879999  16.139999  173600\n",
            "4     16.219999  16.290001  15.630000  137800\n",
            "...         ...        ...        ...     ...\n",
            "7776  23.250000  23.540001  23.250000    4900\n",
            "7777  23.350000  23.610001  23.250000    9200\n",
            "7778  23.450001  23.570000  23.219999   15200\n",
            "7779  23.330000  23.740000  23.330000    7100\n",
            "7780  23.680000  23.760000  23.610001    7100\n",
            "\n",
            "[7781 rows x 4 columns]\n"
          ]
        }
      ]
    },
    {
      "cell_type": "code",
      "source": [
        "print(Y)"
      ],
      "metadata": {
        "colab": {
          "base_uri": "https://localhost:8080/"
        },
        "id": "-mVoeYZZbdYW",
        "outputId": "fcae38eb-e57d-4c0b-abb4-84e4cf598ef3"
      },
      "execution_count": 80,
      "outputs": [
        {
          "output_type": "stream",
          "name": "stdout",
          "text": [
            "0       17.760000\n",
            "1       17.660000\n",
            "2       16.950001\n",
            "3       16.170000\n",
            "4       15.710000\n",
            "          ...    \n",
            "7776    23.290001\n",
            "7777    23.350000\n",
            "7778    23.350000\n",
            "7779    23.610001\n",
            "7780    23.610001\n",
            "Name: close, Length: 7781, dtype: float64\n"
          ]
        }
      ]
    },
    {
      "cell_type": "markdown",
      "source": [
        "Splitting into Training data and Test Data"
      ],
      "metadata": {
        "id": "51dNoZ0rbniX"
      }
    },
    {
      "cell_type": "code",
      "source": [
        "X_train, X_test, Y_train, Y_test = train_test_split(X, Y, test_size = 0.2, random_state=2)"
      ],
      "metadata": {
        "id": "RG0shygKbfLa"
      },
      "execution_count": 81,
      "outputs": []
    },
    {
      "cell_type": "markdown",
      "source": [
        "Model Training: Random Forest Regressor"
      ],
      "metadata": {
        "id": "Zdre3uaBbuU4"
      }
    },
    {
      "cell_type": "code",
      "source": [
        "regressor = LinearRegression()"
      ],
      "metadata": {
        "id": "BMit9MAbbqJQ"
      },
      "execution_count": 98,
      "outputs": []
    },
    {
      "cell_type": "code",
      "source": [
        "# training the model\n",
        "regressor.fit(X_train,Y_train)"
      ],
      "metadata": {
        "colab": {
          "base_uri": "https://localhost:8080/",
          "height": 74
        },
        "id": "V-D3UC6dbx2L",
        "outputId": "47ef6535-f3d9-49c9-86a3-ca036ab4ebd6"
      },
      "execution_count": 99,
      "outputs": [
        {
          "output_type": "execute_result",
          "data": {
            "text/plain": [
              "LinearRegression()"
            ],
            "text/html": [
              "<style>#sk-container-id-2 {color: black;background-color: white;}#sk-container-id-2 pre{padding: 0;}#sk-container-id-2 div.sk-toggleable {background-color: white;}#sk-container-id-2 label.sk-toggleable__label {cursor: pointer;display: block;width: 100%;margin-bottom: 0;padding: 0.3em;box-sizing: border-box;text-align: center;}#sk-container-id-2 label.sk-toggleable__label-arrow:before {content: \"▸\";float: left;margin-right: 0.25em;color: #696969;}#sk-container-id-2 label.sk-toggleable__label-arrow:hover:before {color: black;}#sk-container-id-2 div.sk-estimator:hover label.sk-toggleable__label-arrow:before {color: black;}#sk-container-id-2 div.sk-toggleable__content {max-height: 0;max-width: 0;overflow: hidden;text-align: left;background-color: #f0f8ff;}#sk-container-id-2 div.sk-toggleable__content pre {margin: 0.2em;color: black;border-radius: 0.25em;background-color: #f0f8ff;}#sk-container-id-2 input.sk-toggleable__control:checked~div.sk-toggleable__content {max-height: 200px;max-width: 100%;overflow: auto;}#sk-container-id-2 input.sk-toggleable__control:checked~label.sk-toggleable__label-arrow:before {content: \"▾\";}#sk-container-id-2 div.sk-estimator input.sk-toggleable__control:checked~label.sk-toggleable__label {background-color: #d4ebff;}#sk-container-id-2 div.sk-label input.sk-toggleable__control:checked~label.sk-toggleable__label {background-color: #d4ebff;}#sk-container-id-2 input.sk-hidden--visually {border: 0;clip: rect(1px 1px 1px 1px);clip: rect(1px, 1px, 1px, 1px);height: 1px;margin: -1px;overflow: hidden;padding: 0;position: absolute;width: 1px;}#sk-container-id-2 div.sk-estimator {font-family: monospace;background-color: #f0f8ff;border: 1px dotted black;border-radius: 0.25em;box-sizing: border-box;margin-bottom: 0.5em;}#sk-container-id-2 div.sk-estimator:hover {background-color: #d4ebff;}#sk-container-id-2 div.sk-parallel-item::after {content: \"\";width: 100%;border-bottom: 1px solid gray;flex-grow: 1;}#sk-container-id-2 div.sk-label:hover label.sk-toggleable__label {background-color: #d4ebff;}#sk-container-id-2 div.sk-serial::before {content: \"\";position: absolute;border-left: 1px solid gray;box-sizing: border-box;top: 0;bottom: 0;left: 50%;z-index: 0;}#sk-container-id-2 div.sk-serial {display: flex;flex-direction: column;align-items: center;background-color: white;padding-right: 0.2em;padding-left: 0.2em;position: relative;}#sk-container-id-2 div.sk-item {position: relative;z-index: 1;}#sk-container-id-2 div.sk-parallel {display: flex;align-items: stretch;justify-content: center;background-color: white;position: relative;}#sk-container-id-2 div.sk-item::before, #sk-container-id-2 div.sk-parallel-item::before {content: \"\";position: absolute;border-left: 1px solid gray;box-sizing: border-box;top: 0;bottom: 0;left: 50%;z-index: -1;}#sk-container-id-2 div.sk-parallel-item {display: flex;flex-direction: column;z-index: 1;position: relative;background-color: white;}#sk-container-id-2 div.sk-parallel-item:first-child::after {align-self: flex-end;width: 50%;}#sk-container-id-2 div.sk-parallel-item:last-child::after {align-self: flex-start;width: 50%;}#sk-container-id-2 div.sk-parallel-item:only-child::after {width: 0;}#sk-container-id-2 div.sk-dashed-wrapped {border: 1px dashed gray;margin: 0 0.4em 0.5em 0.4em;box-sizing: border-box;padding-bottom: 0.4em;background-color: white;}#sk-container-id-2 div.sk-label label {font-family: monospace;font-weight: bold;display: inline-block;line-height: 1.2em;}#sk-container-id-2 div.sk-label-container {text-align: center;}#sk-container-id-2 div.sk-container {/* jupyter's `normalize.less` sets `[hidden] { display: none; }` but bootstrap.min.css set `[hidden] { display: none !important; }` so we also need the `!important` here to be able to override the default hidden behavior on the sphinx rendered scikit-learn.org. See: https://github.com/scikit-learn/scikit-learn/issues/21755 */display: inline-block !important;position: relative;}#sk-container-id-2 div.sk-text-repr-fallback {display: none;}</style><div id=\"sk-container-id-2\" class=\"sk-top-container\"><div class=\"sk-text-repr-fallback\"><pre>LinearRegression()</pre><b>In a Jupyter environment, please rerun this cell to show the HTML representation or trust the notebook. <br />On GitHub, the HTML representation is unable to render, please try loading this page with nbviewer.org.</b></div><div class=\"sk-container\" hidden><div class=\"sk-item\"><div class=\"sk-estimator sk-toggleable\"><input class=\"sk-toggleable__control sk-hidden--visually\" id=\"sk-estimator-id-2\" type=\"checkbox\" checked><label for=\"sk-estimator-id-2\" class=\"sk-toggleable__label sk-toggleable__label-arrow\">LinearRegression</label><div class=\"sk-toggleable__content\"><pre>LinearRegression()</pre></div></div></div></div></div>"
            ]
          },
          "metadata": {},
          "execution_count": 99
        }
      ]
    },
    {
      "cell_type": "markdown",
      "source": [
        "\n",
        "Model Evaluation"
      ],
      "metadata": {
        "id": "Hq6MuwN4c0TA"
      }
    },
    {
      "cell_type": "code",
      "source": [
        "# prediction on Test Data\n",
        "test_data_prediction = regressor.predict(X_test)"
      ],
      "metadata": {
        "id": "BeGCwDUlb0CP"
      },
      "execution_count": 100,
      "outputs": []
    },
    {
      "cell_type": "code",
      "source": [
        "print(test_data_prediction)"
      ],
      "metadata": {
        "colab": {
          "base_uri": "https://localhost:8080/"
        },
        "id": "WMwqqF67c6GD",
        "outputId": "7011aee1-6401-4989-a600-fcc0e7f3f624"
      },
      "execution_count": 101,
      "outputs": [
        {
          "output_type": "stream",
          "name": "stdout",
          "text": [
            "[  5.03434593  92.2126529   33.22187359 ...   6.86176457 469.53266314\n",
            "   5.30903626]\n"
          ]
        }
      ]
    },
    {
      "cell_type": "code",
      "source": [
        "# R squared error\n",
        "error_score = metrics.r2_score(Y_test, test_data_prediction)\n",
        "print(\"R squared error : \", error_score)"
      ],
      "metadata": {
        "colab": {
          "base_uri": "https://localhost:8080/"
        },
        "id": "BHFaVqNqc9Rn",
        "outputId": "2f8ced32-b670-471d-ed7e-9c2b0164725d"
      },
      "execution_count": 102,
      "outputs": [
        {
          "output_type": "stream",
          "name": "stdout",
          "text": [
            "R squared error :  0.9998677583231753\n"
          ]
        }
      ]
    },
    {
      "cell_type": "markdown",
      "source": [
        "Compare the Actual Values and Predicted Values in a Plot"
      ],
      "metadata": {
        "id": "WgoJUeNcdGm-"
      }
    },
    {
      "cell_type": "code",
      "source": [
        "Y_test = list(Y_test)"
      ],
      "metadata": {
        "id": "8JO1c7NhdB0a"
      },
      "execution_count": 103,
      "outputs": []
    },
    {
      "cell_type": "code",
      "source": [
        "plt.plot(Y_test, color='blue', label = 'Actual Value')\n",
        "plt.plot(test_data_prediction, color='red', label='Predicted Value')\n",
        "plt.title('Actual Price vs Predicted Price')\n",
        "plt.xlabel('Number of values')\n",
        "plt.ylabel('GLD Price')\n",
        "plt.legend()\n",
        "plt.show()"
      ],
      "metadata": {
        "colab": {
          "base_uri": "https://localhost:8080/",
          "height": 472
        },
        "id": "DesGQPgydJNX",
        "outputId": "e610fab0-1ace-465c-a072-3ba0069f2243"
      },
      "execution_count": 106,
      "outputs": [
        {
          "output_type": "display_data",
          "data": {
            "text/plain": [
              "<Figure size 640x480 with 1 Axes>"
            ],
            "image/png": "[encoded data removed]"
          },
          "metadata": {}
        }
      ]
    },
    {
      "cell_type": "code",
      "source": [],
      "metadata": {
        "id": "kxLPJHohdOVU"
      },
      "execution_count": null,
      "outputs": []
    }
  ]
}